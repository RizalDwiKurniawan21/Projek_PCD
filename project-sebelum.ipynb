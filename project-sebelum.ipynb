{
 "cells": [
  {
   "cell_type": "markdown",
   "metadata": {},
   "source": [
    "## Library"
   ]
  },
  {
   "cell_type": "code",
   "execution_count": 44,
   "metadata": {},
   "outputs": [],
   "source": [
    "import os\n",
    "import cv2\n",
    "import math\n",
    "import numpy as np\n",
    "import pandas as pd\n",
    "import seaborn as sns\n",
    "from tqdm import tqdm\n",
    "from sklearn.svm import SVC\n",
    "import matplotlib.pyplot as plt\n",
    "from sklearn.decomposition import PCA\n",
    "from sklearn.preprocessing import StandardScaler\n",
    "from sklearn.neighbors import KNeighborsClassifier\n",
    "from sklearn.ensemble import RandomForestClassifier\n",
    "from sklearn.model_selection import train_test_split\n",
    "from skimage.feature import graycomatrix, graycoprops\n",
    "from sklearn.metrics import confusion_matrix, accuracy_score, precision_score, recall_score, f1_score"
   ]
  },
  {
   "cell_type": "markdown",
   "metadata": {},
   "source": [
    "## Load Data"
   ]
  },
  {
   "cell_type": "code",
   "execution_count": 45,
   "metadata": {},
   "outputs": [
    {
     "name": "stderr",
     "output_type": "stream",
     "text": [
      "100%|██████████| 100/100 [00:01<00:00, 79.42it/s]\n",
      "100%|██████████| 101/101 [00:01<00:00, 54.01it/s]\n",
      "100%|██████████| 100/100 [00:00<00:00, 104.45it/s]\n"
     ]
    }
   ],
   "source": [
    "def load(folders, max_images_per_class=100):\n",
    "    images = []\n",
    "    labels = []\n",
    "    count = {}\n",
    "    \n",
    "    for folder_path in folders:\n",
    "        folder_name = os.path.basename(folder_path)\n",
    "        count[folder_name] = 0\n",
    "        \n",
    "        for filename in tqdm(os.listdir(folder_path)):\n",
    "            if count[folder_name] >= max_images_per_class:\n",
    "                break\n",
    "            img_path = os.path.join(folder_path, filename)\n",
    "            img = cv2.imread(img_path)\n",
    "            if img is not None:\n",
    "                img = cv2.cvtColor(img, cv2.COLOR_BGR2GRAY)\n",
    "                img = cv2.resize(img, (150, 150))\n",
    "                images.append(img)\n",
    "                labels.append(folder_name)\n",
    "                count[folder_name] += 1\n",
    "    \n",
    "    return images, labels, count \n",
    "\n",
    "folders = ['monarch', 'pipevine_swallow', 'straited_queen']\n",
    "images, labels, count = load(folders)"
   ]
  },
  {
   "cell_type": "code",
   "execution_count": 46,
   "metadata": {},
   "outputs": [
    {
     "data": {
      "image/png": "[encoded data removed]",
      "text/plain": [
       "<Figure size 1000x600 with 1 Axes>"
      ]
     },
     "metadata": {},
     "output_type": "display_data"
    }
   ],
   "source": [
    "plt.figure(figsize=(10, 6))\n",
    "bars = plt.bar(count.keys(), count.values(), color='blue')\n",
    "plt.title('Jumlah Gambar dalam Setiap Kelas')\n",
    "plt.xlabel('Kelas')\n",
    "plt.ylabel('Jumlah Gambar')\n",
    "for bar in bars:\n",
    "    height = bar.get_height()\n",
    "    plt.text(bar.get_x() + bar.get_width() / 2, height, '%d' % int(height),\n",
    "             ha='center', va='bottom', fontsize=10)\n",
    "plt.show()"
   ]
  },
  {
   "cell_type": "markdown",
   "metadata": {},
   "source": [
    "## GLCM"
   ]
  },
  {
   "cell_type": "code",
   "execution_count": 47,
   "metadata": {},
   "outputs": [],
   "source": [
    "dict_labels = {\n",
    "    'monarch': 0,\n",
    "    'pipevine_swallow': 1,\n",
    "    'straited_queen': 2,\n",
    "}"
   ]
  },
  {
   "cell_type": "code",
   "execution_count": 48,
   "metadata": {},
   "outputs": [],
   "source": [
    "def contrast(data):\n",
    "    hasil = 0\n",
    "    for i in range(len(data)):\n",
    "        for j in range(len(data[0])):\n",
    "            hasil += data[i, j] * pow(i - j, 2)\n",
    "    return hasil\n",
    "\n",
    "def dissimilarity(data):  \n",
    "    hasil = 0\n",
    "    for i in range(len(data)):\n",
    "        for j in range(len(data[0])):\n",
    "            hasil += data[i, j] * abs(i - j)\n",
    "    return hasil\n",
    "\n",
    "def homogeneity(data):\n",
    "    hasil = 0\n",
    "    for i in range(len(data)):\n",
    "        for j in range(len(data[0])):\n",
    "            hasil += (data[i, j] / (1 + pow(i - j, 2)))\n",
    "    return hasil\n",
    "\n",
    "def energy(data):\n",
    "    hasil = 0\n",
    "    for i in range(len(data)):\n",
    "        for j in range(len(data[0])):\n",
    "            hasil += data[i][j] ** 2\n",
    "    return hasil\n",
    "\n",
    "def correlation(data):\n",
    "    mean_x = 0\n",
    "    mean_y = 0\n",
    "    std_x = 0\n",
    "    std_y = 0\n",
    "    for i in range(len(data)):\n",
    "        for j in range(len(data[0])):\n",
    "            mean_x += i * data[i][j]\n",
    "            mean_y += j * data[i][j]\n",
    "    for i in range(len(data)):\n",
    "        for j in range(len(data[0])):\n",
    "            std_x += (i - mean_x) ** 2 * data[i][j]\n",
    "            std_y += (j - mean_y) ** 2 * data[i][j]\n",
    "    std_x = math.sqrt(std_x)\n",
    "    std_y = math.sqrt(std_y)\n",
    "    hasil = 0\n",
    "    for i in range(len(data)):\n",
    "        for j in range(len(data[0])):\n",
    "            hasil += (i - mean_x) * (j - mean_y) * data[i][j]\n",
    "    hasil /= std_x * std_y\n",
    "    return hasil\n",
    "\n",
    "def entropy(data):\n",
    "    entropy = 0\n",
    "    for i in range(len(data)):\n",
    "        for j in range(len(data[0])):\n",
    "            if data[i][j] > 0.0:\n",
    "                entropy += -(data[i][j] * math.log(data[i][j]))\n",
    "    return entropy\n",
    "\n",
    "def asm(data):\n",
    "    asm = 0\n",
    "    for i in range(len(data)):\n",
    "        for j in range(len(data[0])):\n",
    "            asm += data[i][j] ** 2\n",
    "    return asm"
   ]
  },
  {
   "cell_type": "code",
   "execution_count": 49,
   "metadata": {},
   "outputs": [],
   "source": [
    "def extract_glcm_features(images, labels, distances=[5], angles=[0, np.pi/4, np.pi/2, 3*np.pi/4], levels=256, symmetric=True, normed=True):\n",
    "    features = ['contrast', 'dissimilarity', 'homogeneity', 'energy', 'correlation']\n",
    "    angle_labels = ['0', '45', '90', '135']\n",
    "    df_data = pd.DataFrame()\n",
    "    for i, image in enumerate(tqdm(images)):\n",
    "        image = image.astype(int)\n",
    "        glcm = graycomatrix(image, distances, angles, levels, symmetric, normed)\n",
    "        for feature in features:\n",
    "            for angle, angle_label in zip(angles, angle_labels):\n",
    "                glcm_matrix = glcm[:, :, 0, int(angle * 4 / np.pi)]\n",
    "                if feature == 'contrast':\n",
    "                    feat_a = contrast(glcm_matrix)\n",
    "                elif feature == 'dissimilarity':\n",
    "                    feat_a = dissimilarity(glcm_matrix)\n",
    "                elif feature == 'homogeneity':\n",
    "                    feat_a = homogeneity(glcm_matrix)\n",
    "                elif feature == 'energy':\n",
    "                    feat_a = energy(glcm_matrix)\n",
    "                elif feature == 'correlation':\n",
    "                    feat_a = correlation(glcm_matrix)\n",
    "                df_data.loc[i, f'{feature}_{angle_label}'] = feat_a\n",
    "        for angle, angle_label in zip(angles, angle_labels):\n",
    "            glcm_matrix = glcm[:, :, 0, int(angle * 4 / np.pi)]\n",
    "            asm_value = asm(glcm_matrix)\n",
    "            entropy_value = entropy(glcm_matrix)\n",
    "            df_data.loc[i, f'asm_{angle_label}'] = asm_value\n",
    "            df_data.loc[i, f'entropy_{angle_label}'] = entropy_value\n",
    "        df_data.loc[i, 'label'] = dict_labels[labels[i]]\n",
    "    return df_data"
   ]
  },
  {
   "cell_type": "markdown",
   "metadata": {},
   "source": [
    "## Seleksi Fitur"
   ]
  },
  {
   "cell_type": "code",
   "execution_count": 50,
   "metadata": {},
   "outputs": [
    {
     "name": "stderr",
     "output_type": "stream",
     "text": [
      "100%|██████████| 300/300 [07:46<00:00,  1.56s/it]\n"
     ]
    }
   ],
   "source": [
    "df_glcm = extract_glcm_features(images, labels)\n",
    "\n",
    "correlations = df_glcm.corr()['label'].abs().sort_values(ascending=False)\n",
    "top_features = correlations.index[1:26] "
   ]
  },
  {
   "cell_type": "code",
   "execution_count": 51,
   "metadata": {},
   "outputs": [],
   "source": [
    "x, y = df_glcm[top_features], df_glcm['label']"
   ]
  },
  {
   "cell_type": "code",
   "execution_count": 52,
   "metadata": {},
   "outputs": [],
   "source": [
    "pca = PCA(n_components=25)\n",
    "x_pca = pca.fit_transform(x)"
   ]
  },
  {
   "cell_type": "code",
   "execution_count": 53,
   "metadata": {},
   "outputs": [],
   "source": [
    "x_train, x_test, y_train, y_test = train_test_split(x_pca, y, test_size=0.2, random_state=42)\n",
    "\n",
    "scaler = StandardScaler()\n",
    "x_train = scaler.fit_transform(x_train)\n",
    "x_test = scaler.transform(x_test)"
   ]
  },
  {
   "cell_type": "markdown",
   "metadata": {},
   "source": [
    "## KNN, SVM, RFC"
   ]
  },
  {
   "cell_type": "code",
   "execution_count": 54,
   "metadata": {},
   "outputs": [],
   "source": [
    "knn_model = KNeighborsClassifier()\n",
    "knn_model.fit(x_train, y_train)\n",
    "knn_pred = knn_model.predict(x_test)\n",
    "knn_accuracy = accuracy_score(y_test, knn_pred)\n",
    "\n",
    "svm_model = SVC()\n",
    "svm_model.fit(x_train, y_train)\n",
    "svm_pred = svm_model.predict(x_test)\n",
    "svm_accuracy = accuracy_score(y_test, svm_pred)\n",
    "\n",
    "rf_model = RandomForestClassifier()\n",
    "rf_model.fit(x_train, y_train)\n",
    "rf_pred = rf_model.predict(x_test)\n",
    "rf_accuracy = accuracy_score(y_test, rf_pred)"
   ]
  },
  {
   "cell_type": "code",
   "execution_count": 55,
   "metadata": {},
   "outputs": [],
   "source": [
    "model_dict = {\n",
    "    'KNN': knn_model,\n",
    "    'SVM': svm_model,\n",
    "    'RF': rf_model\n",
    "}\n",
    "\n",
    "df_eval = pd.DataFrame(columns=['Accuracy', 'Precision', 'Recall', 'F1 Score'], index=model_dict.keys())"
   ]
  },
  {
   "cell_type": "code",
   "execution_count": 56,
   "metadata": {},
   "outputs": [],
   "source": [
    "for model_name, model in model_dict.items():\n",
    "    y_pred = model.predict(x_test)\n",
    "    df_eval.loc[model_name, 'Accuracy'] = accuracy_score(y_test, y_pred)\n",
    "    df_eval.loc[model_name, 'Precision'] = precision_score(y_test, y_pred, average='weighted')\n",
    "    df_eval.loc[model_name, 'Recall'] = recall_score(y_test, y_pred, average='weighted')\n",
    "    df_eval.loc[model_name, 'F1 Score'] = f1_score(y_test, y_pred, average='weighted')"
   ]
  },
  {
   "cell_type": "code",
   "execution_count": 57,
   "metadata": {},
   "outputs": [
    {
     "name": "stdout",
     "output_type": "stream",
     "text": [
      "     Accuracy Precision    Recall  F1 Score\n",
      "KNN  0.516667  0.559136  0.516667  0.520923\n",
      "SVM  0.633333  0.643107  0.633333   0.63046\n",
      "RF   0.583333   0.58746  0.583333  0.584753\n"
     ]
    }
   ],
   "source": [
    "print(df_eval)"
   ]
  },
  {
   "cell_type": "code",
   "execution_count": 58,
   "metadata": {},
   "outputs": [
    {
     "data": {
      "image/png": "[encoded data removed]",
      "text/plain": [
       "<Figure size 2000x500 with 3 Axes>"
      ]
     },
     "metadata": {},
     "output_type": "display_data"
    }
   ],
   "source": [
    "fig, ax = plt.subplots(1, 3, figsize=(20, 5))\n",
    "for i, model_name in enumerate(model_dict.keys()):\n",
    "    y_pred = model_dict[model_name].predict(x_test)\n",
    "    cm = confusion_matrix(y_test, y_pred)\n",
    "    sns.heatmap(cm, annot=True, cmap='coolwarm', cbar=False, ax=ax[i])\n",
    "    ax[i].set_xlabel('Predicted')\n",
    "    ax[i].set_ylabel('True')\n",
    "    ax[i].set_title(model_name)\n",
    "plt.show()"
   ]
  }
 ],
 "metadata": {
  "kernelspec": {
   "display_name": "Python 3",
   "language": "python",
   "name": "python3"
  },
  "language_info": {
   "codemirror_mode": {
    "name": "ipython",
    "version": 3
   },
   "file_extension": ".py",
   "mimetype": "text/x-python",
   "name": "python",
   "nbconvert_exporter": "python",
   "pygments_lexer": "ipython3",
   "version": "3.12.2"
  }
 },
 "nbformat": 4,
 "nbformat_minor": 2
}
